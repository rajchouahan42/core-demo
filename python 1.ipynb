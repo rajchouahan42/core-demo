{
 "cells": [
  {
   "cell_type": "code",
   "execution_count": 9,
   "id": "f57062a5-7f41-4bf5-accb-fa4fa0276a4f",
   "metadata": {},
   "outputs": [],
   "source": [
    "x=5"
   ]
  },
  {
   "cell_type": "code",
   "execution_count": 10,
   "id": "6393bc6b-2336-4620-af2f-8a5558e22996",
   "metadata": {},
   "outputs": [
    {
     "data": {
      "text/plain": [
       "5"
      ]
     },
     "execution_count": 10,
     "metadata": {},
     "output_type": "execute_result"
    }
   ],
   "source": [
    "x"
   ]
  },
  {
   "cell_type": "code",
   "execution_count": 11,
   "id": "602d229b-4581-4866-89c5-96d6e1832a4d",
   "metadata": {},
   "outputs": [],
   "source": [
    "x=5.2"
   ]
  },
  {
   "cell_type": "code",
   "execution_count": 12,
   "id": "54255f47-ba4e-4375-88e2-e75fb6d2d8f6",
   "metadata": {},
   "outputs": [
    {
     "data": {
      "text/plain": [
       "5.2"
      ]
     },
     "execution_count": 12,
     "metadata": {},
     "output_type": "execute_result"
    }
   ],
   "source": [
    "x"
   ]
  },
  {
   "cell_type": "code",
   "execution_count": 13,
   "id": "6577c32d-a397-4192-9df2-90b330873f0a",
   "metadata": {},
   "outputs": [],
   "source": [
    "x=6"
   ]
  },
  {
   "cell_type": "code",
   "execution_count": 14,
   "id": "2b281a7b-f0e1-404c-9dd5-9e340a735951",
   "metadata": {},
   "outputs": [],
   "source": [
    "_x=7.8"
   ]
  },
  {
   "cell_type": "code",
   "execution_count": 20,
   "id": "c28d8c7c-1ca3-4d9c-9913-3231cfb3d2b4",
   "metadata": {},
   "outputs": [],
   "source": [
    "# space(_) number and variable\n",
    "\n",
    "_X6=200\n",
    "\n",
    "\n"
   ]
  },
  {
   "cell_type": "code",
   "execution_count": 22,
   "id": "57e85549-22c5-4044-bec9-4589cc3c773a",
   "metadata": {},
   "outputs": [
    {
     "ename": "SyntaxError",
     "evalue": "invalid decimal literal (333699675.py, line 3)",
     "output_type": "error",
     "traceback": [
      "\u001b[1;36m  Cell \u001b[1;32mIn[22], line 3\u001b[1;36m\u001b[0m\n\u001b[1;33m    6_X=300\u001b[0m\n\u001b[1;37m     ^\u001b[0m\n\u001b[1;31mSyntaxError\u001b[0m\u001b[1;31m:\u001b[0m invalid decimal literal\n"
     ]
    }
   ],
   "source": [
    "# no space(_) number and variable\n",
    "\n",
    "6_X=300"
   ]
  },
  {
   "cell_type": "code",
   "execution_count": 6,
   "id": "18082e55-c52f-411d-ba5a-00d76e1952f6",
   "metadata": {},
   "outputs": [],
   "source": [
    "#python allows you assign values to multiple variable in one line\n",
    "x=5\n",
    "y=6\n",
    "z=8\n"
   ]
  },
  {
   "cell_type": "code",
   "execution_count": 25,
   "id": "6c31da11-0dad-48cd-ac75-bbc1bedfd7fd",
   "metadata": {},
   "outputs": [
    {
     "data": {
      "text/plain": [
       "5"
      ]
     },
     "execution_count": 25,
     "metadata": {},
     "output_type": "execute_result"
    }
   ],
   "source": [
    "x"
   ]
  },
  {
   "cell_type": "code",
   "execution_count": null,
   "id": "40be3f72-26f5-4c6a-bb06-7ddd97ae53e2",
   "metadata": {},
   "outputs": [],
   "source": [
    "x,y,z=1,5,6"
   ]
  },
  {
   "cell_type": "code",
   "execution_count": 26,
   "id": "66456bd0-67bd-4a73-9403-0d2cc72ff21f",
   "metadata": {},
   "outputs": [
    {
     "data": {
      "text/plain": [
       "8"
      ]
     },
     "execution_count": 26,
     "metadata": {},
     "output_type": "execute_result"
    }
   ],
   "source": [
    "z"
   ]
  },
  {
   "cell_type": "code",
   "execution_count": 27,
   "id": "074c28a8-424a-4a05-861e-3175ed5cc5fc",
   "metadata": {},
   "outputs": [],
   "source": [
    "#and you can assign the same value to multiple variable in one line\n",
    "\n",
    "\n",
    "x=y=z=\"orange\"\n"
   ]
  },
  {
   "cell_type": "code",
   "execution_count": 28,
   "id": "69729801-e118-449e-a6e4-8dd1f9678432",
   "metadata": {},
   "outputs": [
    {
     "data": {
      "text/plain": [
       "'orange'"
      ]
     },
     "execution_count": 28,
     "metadata": {},
     "output_type": "execute_result"
    }
   ],
   "source": [
    "z"
   ]
  },
  {
   "cell_type": "markdown",
   "id": "6a5ad021-fbb9-4472-ba72-42616b3d2339",
   "metadata": {},
   "source": [
    "### DATA TYPES"
   ]
  },
  {
   "cell_type": "code",
   "execution_count": 1,
   "id": "49ea293b-5448-4718-b610-fce173c324c9",
   "metadata": {},
   "outputs": [
    {
     "name": "stdout",
     "output_type": "stream",
     "text": [
      "<class 'int'>\n"
     ]
    }
   ],
   "source": [
    "# data types\n",
    "# int\n",
    "x=5\n",
    "print( type (x))\n"
   ]
  },
  {
   "cell_type": "code",
   "execution_count": 2,
   "id": "f3d8c202-bf4f-40cc-8c2b-4fa4a8d40518",
   "metadata": {},
   "outputs": [
    {
     "name": "stdout",
     "output_type": "stream",
     "text": [
      "5\n"
     ]
    }
   ],
   "source": [
    "int = 5\n",
    "print (int)"
   ]
  },
  {
   "cell_type": "code",
   "execution_count": 3,
   "id": "96ca947e-4677-42f0-96a6-3bf5a2a40f48",
   "metadata": {},
   "outputs": [
    {
     "name": "stdout",
     "output_type": "stream",
     "text": [
      "<class 'float'>\n"
     ]
    }
   ],
   "source": [
    "# float number in data type\n",
    "y=5.2        ## float number is represeted by (.) \n",
    "print(type (y))"
   ]
  },
  {
   "cell_type": "code",
   "execution_count": 4,
   "id": "7cd18f4a-360d-4884-892d-dec94f6a801e",
   "metadata": {},
   "outputs": [
    {
     "name": "stdout",
     "output_type": "stream",
     "text": [
      "<class 'complex'>\n"
     ]
    },
    {
     "data": {
      "text/plain": [
       "complex"
      ]
     },
     "execution_count": 4,
     "metadata": {},
     "output_type": "execute_result"
    }
   ],
   "source": [
    "# complex number in data type\n",
    "x = 1j         ## complex number is represented by \"j\"\n",
    "print (type (x))\n",
    "type (x)"
   ]
  },
  {
   "cell_type": "code",
   "execution_count": 11,
   "id": "c7e7b864-0eb6-4fd3-9d41-979293208f4d",
   "metadata": {},
   "outputs": [
    {
     "data": {
      "text/plain": [
       "list"
      ]
     },
     "execution_count": 11,
     "metadata": {},
     "output_type": "execute_result"
    }
   ],
   "source": [
    "# sequence types\n",
    "## list\n",
    "x = [ \"apple\",\"banana\",\"cherry\"]  ## A list is  represented and close by  the \" [] \" (squere breket)\n",
    "type (x)"
   ]
  },
  {
   "cell_type": "code",
   "execution_count": 2,
   "id": "68277758-75d5-4333-8c65-a625efae4dc8",
   "metadata": {},
   "outputs": [
    {
     "data": {
      "text/plain": [
       "tuple"
      ]
     },
     "execution_count": 2,
     "metadata": {},
     "output_type": "execute_result"
    }
   ],
   "source": [
    "# tuple \n",
    "x = ( \" apple \",\"banana\",\"cherry\")  ## A tuple is represented and close by the \"()\"\n",
    "type (x)"
   ]
  },
  {
   "cell_type": "code",
   "execution_count": 14,
   "id": "7160b6cc-f367-4272-93fb-a9b1cfbf5b5b",
   "metadata": {},
   "outputs": [
    {
     "name": "stdout",
     "output_type": "stream",
     "text": [
      "<class 'range'>\n"
     ]
    }
   ],
   "source": [
    "# sequence types \n",
    "## range \n",
    "x = range (0,6) # range of the number ( 0-6 range) \n",
    "print (type (x))"
   ]
  },
  {
   "cell_type": "code",
   "execution_count": 10,
   "id": "c631af28-23a7-44f0-8652-9b3d4d3f93ad",
   "metadata": {},
   "outputs": [
    {
     "data": {
      "text/plain": [
       "dict"
      ]
     },
     "execution_count": 10,
     "metadata": {},
     "output_type": "execute_result"
    }
   ],
   "source": [
    "# mapping type\n",
    "# direction\n",
    "x = {\"name\":\"john\",\"age\":36}\n",
    "type (x)"
   ]
  },
  {
   "cell_type": "code",
   "execution_count": 11,
   "id": "2019836d-f424-45b5-9938-253dcfd3795a",
   "metadata": {},
   "outputs": [
    {
     "data": {
      "text/plain": [
       "set"
      ]
     },
     "execution_count": 11,
     "metadata": {},
     "output_type": "execute_result"
    }
   ],
   "source": [
    "#set \n",
    "x = {\"apple\", \"banana\",\"cherry\"} ## set is coolection of unique number \n",
    "type (x)"
   ]
  },
  {
   "cell_type": "code",
   "execution_count": 19,
   "id": "ee3c0be7-fe11-4ab1-a70e-b2234b4a424b",
   "metadata": {},
   "outputs": [
    {
     "data": {
      "text/plain": [
       "bool"
      ]
     },
     "execution_count": 19,
     "metadata": {},
     "output_type": "execute_result"
    }
   ],
   "source": [
    " # boolean type\n",
    "#bool\n",
    "x = True\n",
    "type (x)"
   ]
  },
  {
   "cell_type": "code",
   "execution_count": 14,
   "id": "178b3091-2dd5-4c6e-bd63-c65385719872",
   "metadata": {},
   "outputs": [
    {
     "data": {
      "text/plain": [
       "bytes"
      ]
     },
     "execution_count": 14,
     "metadata": {},
     "output_type": "execute_result"
    }
   ],
   "source": [
    "# bytes\n",
    "x= b\"Hello\"\n",
    "type (x)"
   ]
  },
  {
   "cell_type": "code",
   "execution_count": 20,
   "id": "7bc7c6a7-50bd-44d1-ba0e-558939d1ad70",
   "metadata": {},
   "outputs": [
    {
     "data": {
      "text/plain": [
       "bytearray"
      ]
     },
     "execution_count": 20,
     "metadata": {},
     "output_type": "execute_result"
    }
   ],
   "source": [
    "# bytearray\n",
    "x= bytearray (5)\n",
    "type (x)\n"
   ]
  },
  {
   "cell_type": "code",
   "execution_count": 22,
   "id": "49898870-0e84-442e-ba35-e5f3a8a5afab",
   "metadata": {},
   "outputs": [
    {
     "data": {
      "text/plain": [
       "memoryview"
      ]
     },
     "execution_count": 22,
     "metadata": {},
     "output_type": "execute_result"
    }
   ],
   "source": [
    "# memoryview\n",
    "x= memoryview(bytes (5))\n",
    "type(x)"
   ]
  },
  {
   "cell_type": "code",
   "execution_count": 10,
   "id": "be983fee-34f7-4a82-bd2c-fd2a0a0a623a",
   "metadata": {},
   "outputs": [
    {
     "name": "stdout",
     "output_type": "stream",
     "text": [
      "<class 'str'>\n"
     ]
    },
    {
     "data": {
      "text/plain": [
       "str"
      ]
     },
     "execution_count": 10,
     "metadata": {},
     "output_type": "execute_result"
    }
   ],
   "source": [
    "str = \" Hello world!\"\n",
    "s = \"Hello, World!\"\n",
    "\n",
    "print(type (str))\n",
    "type (s)\n"
   ]
  },
  {
   "cell_type": "markdown",
   "id": "8a0f4ee7-fad2-446d-bb48-9372c94ab2f0",
   "metadata": {},
   "source": [
    "#### "
   ]
  },
  {
   "cell_type": "code",
   "execution_count": 12,
   "id": "7ee350cf-8b4e-4c27-93af-0c0a26831a22",
   "metadata": {},
   "outputs": [
    {
     "data": {
      "text/plain": [
       "list"
      ]
     },
     "execution_count": 12,
     "metadata": {},
     "output_type": "execute_result"
    }
   ],
   "source": [
    "my_list = [1, \"apple\", 3.14, True]\n",
    "type (my_list)"
   ]
  },
  {
   "cell_type": "code",
   "execution_count": 15,
   "id": "66cac9b6-a5f7-4065-b735-57bb1ca02fd9",
   "metadata": {},
   "outputs": [
    {
     "name": "stdout",
     "output_type": "stream",
     "text": [
      "Hello, world!\n"
     ]
    }
   ],
   "source": [
    "print('Hello, world!')\n"
   ]
  },
  {
   "cell_type": "code",
   "execution_count": 16,
   "id": "22de6884-0eaf-4ded-8875-e276ef68dc57",
   "metadata": {},
   "outputs": [
    {
     "data": {
      "text/plain": [
       "frozenset"
      ]
     },
     "execution_count": 16,
     "metadata": {},
     "output_type": "execute_result"
    }
   ],
   "source": [
    "frozen_set = frozenset([1, 2, 3, 4])\n",
    "type (frozen_set)"
   ]
  },
  {
   "cell_type": "code",
   "execution_count": 17,
   "id": "15f4cac4-0a08-4e33-b773-0fabc89fa266",
   "metadata": {},
   "outputs": [
    {
     "ename": "SyntaxError",
     "evalue": "invalid syntax (789568486.py, line 2)",
     "output_type": "error",
     "traceback": [
      "\u001b[1;36m  Cell \u001b[1;32mIn[17], line 2\u001b[1;36m\u001b[0m\n\u001b[1;33m    <class 'bool'>\u001b[0m\n\u001b[1;37m    ^\u001b[0m\n\u001b[1;31mSyntaxError\u001b[0m\u001b[1;31m:\u001b[0m invalid syntax\n"
     ]
    }
   ],
   "source": [
    ">>> type(False)\n",
    "<class 'bool'>\n",
    ">>> type(True)\n",
    "<class 'bool'>"
   ]
  },
  {
   "cell_type": "code",
   "execution_count": 18,
   "id": "a459f24e-fd13-4acd-8c33-c684271f83e4",
   "metadata": {},
   "outputs": [
    {
     "data": {
      "text/plain": [
       "NoneType"
      ]
     },
     "execution_count": 18,
     "metadata": {},
     "output_type": "execute_result"
    }
   ],
   "source": [
    "x = None\n",
    "type (x)"
   ]
  },
  {
   "cell_type": "markdown",
   "id": "9e5cf24b-ca7b-4218-908b-cdffe876ca39",
   "metadata": {},
   "source": [
    "### PYTHON CASTING"
   ]
  },
  {
   "cell_type": "code",
   "execution_count": 2,
   "id": "f7caaca9-2f43-48a2-a95b-7fc3378bdc1e",
   "metadata": {},
   "outputs": [
    {
     "data": {
      "text/plain": [
       "int"
      ]
     },
     "execution_count": 2,
     "metadata": {},
     "output_type": "execute_result"
    }
   ],
   "source": [
    "x = int (2.8)\n",
    "y = int (\"3\")\n",
    "type (x)\n",
    "type (y)"
   ]
  },
  {
   "cell_type": "code",
   "execution_count": 10,
   "id": "df361446-8754-44da-8c2d-117daffa38ac",
   "metadata": {},
   "outputs": [
    {
     "name": "stdout",
     "output_type": "stream",
     "text": [
      "<class 'float'>\n",
      "<class 'float'>\n",
      "<class 'float'>\n"
     ]
    }
   ],
   "source": [
    "x =float (1)\n",
    "y =float (\"3.2\")\n",
    "w =float ('4.2')\n",
    "print (type (x))\n",
    "print (type (w))\n",
    "print (type (y))"
   ]
  },
  {
   "cell_type": "code",
   "execution_count": 11,
   "id": "e859fb3a-64a7-4574-b8ef-3f6fff8cd8f1",
   "metadata": {},
   "outputs": [
    {
     "ename": "ValueError",
     "evalue": "invalid literal for int() with base 10: '3.2'",
     "output_type": "error",
     "traceback": [
      "\u001b[1;31m---------------------------------------------------------------------------\u001b[0m",
      "\u001b[1;31mValueError\u001b[0m                                Traceback (most recent call last)",
      "Cell \u001b[1;32mIn[11], line 1\u001b[0m\n\u001b[1;32m----> 1\u001b[0m x \u001b[38;5;241m=\u001b[39m \u001b[38;5;28;43mint\u001b[39;49m\u001b[43m \u001b[49m\u001b[43m(\u001b[49m\u001b[38;5;124;43m'\u001b[39;49m\u001b[38;5;124;43m3.2\u001b[39;49m\u001b[38;5;124;43m'\u001b[39;49m\u001b[43m)\u001b[49m \u001b[38;5;66;03m# this is not a integer but is string why is define of single quatation ('  ')\u001b[39;00m\n",
      "\u001b[1;31mValueError\u001b[0m: invalid literal for int() with base 10: '3.2'"
     ]
    }
   ],
   "source": [
    " x = int ('3.2') # this is not a integer but is string why is define of single quatation ('  ')"
   ]
  },
  {
   "cell_type": "markdown",
   "id": "b6ae9b34-7ca9-467e-9ac1-3720afb04f6b",
   "metadata": {},
   "source": [
    "### multiline string"
   ]
  },
  {
   "cell_type": "code",
   "execution_count": 20,
   "id": "628142da-7b5d-4102-bf26-ba45bd27dee5",
   "metadata": {},
   "outputs": [],
   "source": [
    " a = \"\"\" you can write anything is a multiline string \n",
    " and we are assigning this to a_variable \"\"\""
   ]
  },
  {
   "cell_type": "code",
   "execution_count": 21,
   "id": "d76c7b0d-6934-4085-83b6-0240c0d45afe",
   "metadata": {},
   "outputs": [
    {
     "name": "stdout",
     "output_type": "stream",
     "text": [
      " you can write anything is a multiline string \n",
      "and we are assigning this to a_variable \n"
     ]
    }
   ],
   "source": [
    "print (a)"
   ]
  },
  {
   "cell_type": "code",
   "execution_count": 23,
   "id": "9854e8b0-dcdc-45c2-886f-4c491579d6ef",
   "metadata": {},
   "outputs": [
    {
     "data": {
      "text/plain": [
       "' you can write anything is a multiline string \\nand we are assigning this to a_variable '"
      ]
     },
     "execution_count": 23,
     "metadata": {},
     "output_type": "execute_result"
    }
   ],
   "source": [
    "a"
   ]
  },
  {
   "cell_type": "markdown",
   "id": "790d6d42-e27f-4ee5-851c-ef675bfcbbdb",
   "metadata": {},
   "source": [
    "### string are Arrays"
   ]
  },
  {
   "cell_type": "code",
   "execution_count": 24,
   "id": "18333f45-6373-4809-adb7-5a3c42ec1653",
   "metadata": {},
   "outputs": [],
   "source": [
    "x=\"o\""
   ]
  },
  {
   "cell_type": "code",
   "execution_count": 27,
   "id": "658c8cbb-dfb0-46fa-a0e0-58139c998888",
   "metadata": {},
   "outputs": [
    {
     "data": {
      "text/plain": [
       "1"
      ]
     },
     "execution_count": 27,
     "metadata": {},
     "output_type": "execute_result"
    }
   ],
   "source": [
    "len(x)"
   ]
  },
  {
   "cell_type": "code",
   "execution_count": 33,
   "id": "35dfdd2d-67fc-47eb-9358-9937506c2f2f",
   "metadata": {},
   "outputs": [
    {
     "data": {
      "text/plain": [
       "'o'"
      ]
     },
     "execution_count": 33,
     "metadata": {},
     "output_type": "execute_result"
    }
   ],
   "source": [
    " x = \"orange\"\n",
    "len (x)\n",
    "x[0]"
   ]
  },
  {
   "cell_type": "code",
   "execution_count": null,
   "id": "a3be2bdd-95c9-4987-8855-1361c71434be",
   "metadata": {},
   "outputs": [],
   "source": []
  },
  {
   "cell_type": "code",
   "execution_count": 36,
   "id": "5ee1c052-88c2-46e9-997a-1dd1b4ea850a",
   "metadata": {},
   "outputs": [],
   "source": [
    " a = \"hello world\""
   ]
  },
  {
   "cell_type": "code",
   "execution_count": 44,
   "id": "fa47d0f4-6f87-4e7d-981c-3d2c835152bc",
   "metadata": {},
   "outputs": [
    {
     "data": {
      "text/plain": [
       "'ello'"
      ]
     },
     "execution_count": 44,
     "metadata": {},
     "output_type": "execute_result"
    }
   ],
   "source": [
    "a[1:5]###  "
   ]
  },
  {
   "cell_type": "code",
   "execution_count": null,
   "id": "03cec8fa-fb40-4e9e-95a8-47a659412ebb",
   "metadata": {},
   "outputs": [],
   "source": []
  }
 ],
 "metadata": {
  "kernelspec": {
   "display_name": "Python 3 (ipykernel)",
   "language": "python",
   "name": "python3"
  },
  "language_info": {
   "codemirror_mode": {
    "name": "ipython",
    "version": 3
   },
   "file_extension": ".py",
   "mimetype": "text/x-python",
   "name": "python",
   "nbconvert_exporter": "python",
   "pygments_lexer": "ipython3",
   "version": "3.10.10"
  }
 },
 "nbformat": 4,
 "nbformat_minor": 5
}
