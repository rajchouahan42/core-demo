{
 "cells": [
  {
   "cell_type": "code",
   "execution_count": 6,
   "id": "92e69514-f00d-4187-849b-c6bd81bbeddd",
   "metadata": {},
   "outputs": [],
   "source": [
    "a=1111111111111111111111111111111111111111111111111111111111111111111111111122222222222222222222222222222222222223333333333333333333333333333333333333333333333333333333333333333333333333333333333333333333333333888888888888888888888888888888888888888888888888888888888888888888444444444444444444444444444"
   ]
  },
  {
   "cell_type": "code",
   "execution_count": 7,
   "id": "ab936464-f544-4188-9074-88091d786341",
   "metadata": {},
   "outputs": [
    {
     "data": {
      "text/plain": [
       "int"
      ]
     },
     "execution_count": 7,
     "metadata": {},
     "output_type": "execute_result"
    }
   ],
   "source": [
    "type(a)"
   ]
  },
  {
   "cell_type": "code",
   "execution_count": 8,
   "id": "303675b5-036a-449c-8616-7cde4d66759a",
   "metadata": {},
   "outputs": [
    {
     "name": "stdout",
     "output_type": "stream",
     "text": [
      "100\n"
     ]
    }
   ],
   "source": [
    " a= 40 if 10>30 else 100\n",
    "print(a)"
   ]
  },
  {
   "cell_type": "code",
   "execution_count": 9,
   "id": "12511253-b840-45bb-b478-e842ed693d6c",
   "metadata": {},
   "outputs": [
    {
     "name": "stdin",
     "output_type": "stream",
     "text": [
      "Enter the value 2312\n"
     ]
    },
    {
     "name": "stdout",
     "output_type": "stream",
     "text": [
      "<class 'str'>\n"
     ]
    }
   ],
   "source": [
    "r = input('Enter the value')\n",
    "print(type (r))\n"
   ]
  },
  {
   "cell_type": "code",
   "execution_count": null,
   "id": "61834460-44a7-491b-89c0-b3c881119008",
   "metadata": {},
   "outputs": [],
   "source": [
    "# add two numbers\n",
    "n1 = input (\"Enter num 1:\")\n",
    "n2 ="
   ]
  },
  {
   "cell_type": "code",
   "execution_count": null,
   "id": "4dc6c969-c0a1-4067-bec2-1a5b1c8e2a24",
   "metadata": {},
   "outputs": [],
   "source": []
  },
  {
   "cell_type": "code",
   "execution_count": null,
   "id": "dc855b0e-0dbe-4807-a07b-ac67f166c041",
   "metadata": {},
   "outputs": [],
   "source": [
    "# data types of python"
   ]
  },
  {
   "cell_type": "code",
   "execution_count": 10,
   "id": "93ea1341-05ca-42f7-b47a-c92526f59082",
   "metadata": {},
   "outputs": [
    {
     "name": "stdout",
     "output_type": "stream",
     "text": [
      "<class 'int'>\n"
     ]
    }
   ],
   "source": [
    "a = 234\n",
    "print (type(a))"
   ]
  },
  {
   "cell_type": "code",
   "execution_count": 11,
   "id": "d43ae8f8-c33d-4614-a6f5-7781c827efdf",
   "metadata": {},
   "outputs": [
    {
     "name": "stdout",
     "output_type": "stream",
     "text": [
      "2282525302288\n",
      "2282525302288\n",
      "2282525302288\n"
     ]
    }
   ],
   "source": [
    "a = 234\n",
    "b = 234\n",
    "c = 234\n",
    "print (id (a))\n",
    "print (id (b))\n",
    "print (id (c))"
   ]
  },
  {
   "cell_type": "code",
   "execution_count": 14,
   "id": "647187b2-c41d-4d52-86c1-568f1bad845d",
   "metadata": {},
   "outputs": [
    {
     "name": "stdout",
     "output_type": "stream",
     "text": [
      "140713987140456\n",
      "140713987140456\n",
      "140713987140456\n"
     ]
    }
   ],
   "source": [
    " b = True\n",
    " c = True\n",
    " d = True\n",
    "print(id(b))\n",
    "print(id(c))\n",
    "print(id(d))"
   ]
  },
  {
   "cell_type": "code",
   "execution_count": null,
   "id": "c7159e5d-065b-471b-9d8e-f14ade4700b5",
   "metadata": {},
   "outputs": [],
   "source": [
    "   b = [2,3]\n",
    "   c = [\n",
    "   "
   ]
  },
  {
   "cell_type": "code",
   "execution_count": 15,
   "id": "33a41bd0-0967-4123-b4a4-9e67d115d5ad",
   "metadata": {},
   "outputs": [
    {
     "data": {
      "text/plain": [
       "int"
      ]
     },
     "execution_count": 15,
     "metadata": {},
     "output_type": "execute_result"
    }
   ],
   "source": [
    "t = (2)\n",
    "type(t) "
   ]
  },
  {
   "cell_type": "code",
   "execution_count": 17,
   "id": "cec8d3aa-77b5-4209-8798-86b25bddb1c8",
   "metadata": {},
   "outputs": [
    {
     "ename": "TypeError",
     "evalue": "'int' object is not iterable",
     "output_type": "error",
     "traceback": [
      "\u001b[1;31m---------------------------------------------------------------------------\u001b[0m",
      "\u001b[1;31mTypeError\u001b[0m                                 Traceback (most recent call last)",
      "Cell \u001b[1;32mIn[17], line 1\u001b[0m\n\u001b[1;32m----> 1\u001b[0m t2 \u001b[38;5;241m=\u001b[39m\u001b[38;5;28;43mtuple\u001b[39;49m\u001b[43m \u001b[49m\u001b[43m(\u001b[49m\u001b[38;5;241;43m2\u001b[39;49m\u001b[43m)\u001b[49m\n\u001b[0;32m      2\u001b[0m \u001b[38;5;28mtype\u001b[39m (t2)\n",
      "\u001b[1;31mTypeError\u001b[0m: 'int' object is not iterable"
     ]
    }
   ],
   "source": [
    "t2 =tuple (2)\n",
    "type (t2)"
   ]
  },
  {
   "cell_type": "code",
   "execution_count": null,
   "id": "3a005db1-5d51-40be-9edb-934cac78ef4b",
   "metadata": {},
   "outputs": [],
   "source": []
  },
  {
   "cell_type": "code",
   "execution_count": null,
   "id": "4ee47a9c-f989-42ad-bf25-b29920678317",
   "metadata": {},
   "outputs": [],
   "source": []
  }
 ],
 "metadata": {
  "kernelspec": {
   "display_name": "Python 3 (ipykernel)",
   "language": "python",
   "name": "python3"
  },
  "language_info": {
   "codemirror_mode": {
    "name": "ipython",
    "version": 3
   },
   "file_extension": ".py",
   "mimetype": "text/x-python",
   "name": "python",
   "nbconvert_exporter": "python",
   "pygments_lexer": "ipython3",
   "version": "3.10.10"
  }
 },
 "nbformat": 4,
 "nbformat_minor": 5
}
