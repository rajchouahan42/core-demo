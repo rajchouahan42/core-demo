{
 "cells": [
  {
   "cell_type": "markdown",
   "id": "4219ea4f-e6bc-4b7e-9be5-c66f3d6353f0",
   "metadata": {},
   "source": [
    "### PYTHON TUTORIAL"
   ]
  },
  {
   "cell_type": "code",
   "execution_count": null,
   "id": "b5568fb6-7fcc-489a-86d4-8457543fd05c",
   "metadata": {},
   "outputs": [],
   "source": [
    "# PYTHON IS MULTIPLE INTEGER VALUE STORE\n",
    "a=122222021111111111111111111111111111111112222222222222222222222222222222222222222298587471234567891245679812245679234568912345689456"
   ]
  },
  {
   "cell_type": "code",
   "execution_count": 4,
   "id": "df164c8b-ca0c-4bed-8678-ec74e29b09f9",
   "metadata": {},
   "outputs": [
    {
     "data": {
      "text/plain": [
       "int"
      ]
     },
     "execution_count": 4,
     "metadata": {},
     "output_type": "execute_result"
    }
   ],
   "source": [
    "type (a)"
   ]
  },
  {
   "cell_type": "code",
   "execution_count": 10,
   "id": "b15180a9-c965-4c07-a176-2e3b17a65d96",
   "metadata": {},
   "outputs": [
    {
     "name": "stdin",
     "output_type": "stream",
     "text": [
      "Enter the num 1: 10\n",
      "Enter the num 2: 10\n"
     ]
    },
    {
     "name": "stdout",
     "output_type": "stream",
     "text": [
      "1010\n",
      "<class 'str'>\n"
     ]
    }
   ],
   "source": [
    "# ADD TWO NUMBERS\n",
    "n1 = input (\"Enter the num 1:\")\n",
    "n2 = input (\"Enter the num 2:\")\n",
    "res = n1+n2\n",
    "print (res)\n",
    "print (type (res))"
   ]
  },
  {
   "cell_type": "markdown",
   "id": "abb27134-420b-4475-a32f-792e41fc8ff4",
   "metadata": {},
   "source": [
    "##### DATA TYPES OF PYTHON"
   ]
  },
  {
   "cell_type": "code",
   "execution_count": 18,
   "id": "3295c3a5-0f4a-4414-9e9f-0534b0ad90ec",
   "metadata": {},
   "outputs": [],
   "source": [
    "# str - String \n",
    "# int - Integer\n",
    "# float - Floater\n",
    "# complex - Imaginary\n",
    "# bool -Boolean\n",
    "# None\n",
    "#-----------------------------------L\n",
    "# list - []\n",
    "# tuple - ()\n",
    "# dict - {}\n",
    "# set - (min one value)\n",
    "# frozenset"
   ]
  },
  {
   "cell_type": "code",
   "execution_count": 22,
   "id": "af6161d8-7b11-422a-a8ae-20efecee1b85",
   "metadata": {},
   "outputs": [
    {
     "name": "stdout",
     "output_type": "stream",
     "text": [
      "30\n",
      "0.5\n",
      "0\n",
      "200\n",
      "-10\n"
     ]
    }
   ],
   "source": [
    "#Integer\n",
    "\n",
    "a = 10\n",
    "b = 20\n",
    "\n",
    "c = a+b\n",
    "d = a/b\n",
    "e = a//b\n",
    "f = a*b\n",
    "g = a-b\n",
    "print (c)\n",
    "print (d)\n",
    "print (e)\n",
    "print (f)\n",
    "print (g)\n"
   ]
  },
  {
   "cell_type": "code",
   "execution_count": 23,
   "id": "aecfb1ce-d964-4fa0-9bc9-2060e41f220c",
   "metadata": {},
   "outputs": [
    {
     "name": "stdout",
     "output_type": "stream",
     "text": [
      "30.4\n",
      "0.504950495049505\n",
      "0.0\n",
      "206.04\n",
      "-10.0\n"
     ]
    }
   ],
   "source": [
    "# Floater\n",
    "\n",
    "a = 10.2\n",
    "b = 20.2\n",
    "\n",
    "c = a+b\n",
    "d = a/b\n",
    "e = a//b\n",
    "f = a*b\n",
    "g = a-b\n",
    "print (c)\n",
    "print (d)\n",
    "print (e)\n",
    "print (f)\n",
    "print (g)"
   ]
  },
  {
   "cell_type": "code",
   "execution_count": 4,
   "id": "32c03876-9684-4e4f-a3a2-5aed67fdcfbc",
   "metadata": {},
   "outputs": [
    {
     "name": "stdout",
     "output_type": "stream",
     "text": [
      "Hello , world!\n"
     ]
    }
   ],
   "source": [
    "# String \n",
    "a = (\"Hello , world!\")\n",
    "print (a)"
   ]
  },
  {
   "cell_type": "code",
   "execution_count": 20,
   "id": "b0118e13-dfae-4973-8af7-e657f73556c3",
   "metadata": {},
   "outputs": [
    {
     "name": "stdout",
     "output_type": "stream",
     "text": [
      "<class 'complex'>\n",
      "(3+4j)\n"
     ]
    }
   ],
   "source": [
    "#complex\n",
    "a = 3 + 4j\n",
    "print ( type (a)) ## Complex is represents by \"j\"\n",
    "print (a)"
   ]
  },
  {
   "cell_type": "code",
   "execution_count": 19,
   "id": "bfb04b5d-78d1-4b4b-8c5c-261a580af5b4",
   "metadata": {},
   "outputs": [
    {
     "name": "stdout",
     "output_type": "stream",
     "text": [
      "[1, 'ram', 3.14, 'true']\n",
      "<class 'list'>\n"
     ]
    }
   ],
   "source": [
    "# List\n",
    "my_list = [1,'ram',3.14,'true']  ## List represents by \"[]\"\n",
    "print (my_list)\n",
    "print (type (my_list))"
   ]
  },
  {
   "cell_type": "code",
   "execution_count": 26,
   "id": "ffc426b2-89f3-45c9-91a9-1f309cb90948",
   "metadata": {},
   "outputs": [
    {
     "name": "stdout",
     "output_type": "stream",
     "text": [
      "<class 'tuple'>\n",
      "('i', 'am', 'a', 'student', 'of', 'the', 'colleage')\n"
     ]
    }
   ],
   "source": [
    "# Tuple \n",
    "a = (\"i\",\"am\",\"a\",\"student\",\"of\",\"the\",\"colleage\")\n",
    "print (type (a))\n",
    "print (a)"
   ]
  },
  {
   "cell_type": "code",
   "execution_count": null,
   "id": "4aa4cd7b-12ce-4c98-b57a-04d8b007e3e2",
   "metadata": {},
   "outputs": [],
   "source": []
  }
 ],
 "metadata": {
  "kernelspec": {
   "display_name": "Python 3 (ipykernel)",
   "language": "python",
   "name": "python3"
  },
  "language_info": {
   "codemirror_mode": {
    "name": "ipython",
    "version": 3
   },
   "file_extension": ".py",
   "mimetype": "text/x-python",
   "name": "python",
   "nbconvert_exporter": "python",
   "pygments_lexer": "ipython3",
   "version": "3.10.10"
  }
 },
 "nbformat": 4,
 "nbformat_minor": 5
}
