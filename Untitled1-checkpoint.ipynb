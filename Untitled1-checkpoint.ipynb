{
 "cells": [
  {
   "cell_type": "code",
   "execution_count": 9,
   "id": "f57062a5-7f41-4bf5-accb-fa4fa0276a4f",
   "metadata": {},
   "outputs": [],
   "source": [
    "x=5"
   ]
  },
  {
   "cell_type": "code",
   "execution_count": 10,
   "id": "6393bc6b-2336-4620-af2f-8a5558e22996",
   "metadata": {},
   "outputs": [
    {
     "data": {
      "text/plain": [
       "5"
      ]
     },
     "execution_count": 10,
     "metadata": {},
     "output_type": "execute_result"
    }
   ],
   "source": [
    "x"
   ]
  },
  {
   "cell_type": "code",
   "execution_count": 11,
   "id": "602d229b-4581-4866-89c5-96d6e1832a4d",
   "metadata": {},
   "outputs": [],
   "source": [
    "x=5.2"
   ]
  },
  {
   "cell_type": "code",
   "execution_count": 12,
   "id": "54255f47-ba4e-4375-88e2-e75fb6d2d8f6",
   "metadata": {},
   "outputs": [
    {
     "data": {
      "text/plain": [
       "5.2"
      ]
     },
     "execution_count": 12,
     "metadata": {},
     "output_type": "execute_result"
    }
   ],
   "source": [
    "x"
   ]
  },
  {
   "cell_type": "code",
   "execution_count": 13,
   "id": "6577c32d-a397-4192-9df2-90b330873f0a",
   "metadata": {},
   "outputs": [],
   "source": [
    "x=6"
   ]
  },
  {
   "cell_type": "code",
   "execution_count": 14,
   "id": "2b281a7b-f0e1-404c-9dd5-9e340a735951",
   "metadata": {},
   "outputs": [],
   "source": [
    "_x=7.8"
   ]
  },
  {
   "cell_type": "code",
   "execution_count": 20,
   "id": "c28d8c7c-1ca3-4d9c-9913-3231cfb3d2b4",
   "metadata": {},
   "outputs": [],
   "source": [
    "# space(_) number and variable\n",
    "\n",
    "_X6=200\n",
    "\n",
    "\n"
   ]
  },
  {
   "cell_type": "code",
   "execution_count": 22,
   "id": "57e85549-22c5-4044-bec9-4589cc3c773a",
   "metadata": {},
   "outputs": [
    {
     "ename": "SyntaxError",
     "evalue": "invalid decimal literal (333699675.py, line 3)",
     "output_type": "error",
     "traceback": [
      "\u001b[1;36m  Cell \u001b[1;32mIn[22], line 3\u001b[1;36m\u001b[0m\n\u001b[1;33m    6_X=300\u001b[0m\n\u001b[1;37m     ^\u001b[0m\n\u001b[1;31mSyntaxError\u001b[0m\u001b[1;31m:\u001b[0m invalid decimal literal\n"
     ]
    }
   ],
   "source": [
    "# no space(_) number and variable\n",
    "\n",
    "6_X=300"
   ]
  },
  {
   "cell_type": "code",
   "execution_count": 23,
   "id": "18082e55-c52f-411d-ba5a-00d76e1952f6",
   "metadata": {},
   "outputs": [],
   "source": [
    "#python allows you assign vakues to multiple variable in one line\n",
    "x=5\n",
    "y=6\n",
    "z=8\n"
   ]
  },
  {
   "cell_type": "code",
   "execution_count": 25,
   "id": "6c31da11-0dad-48cd-ac75-bbc1bedfd7fd",
   "metadata": {},
   "outputs": [
    {
     "data": {
      "text/plain": [
       "5"
      ]
     },
     "execution_count": 25,
     "metadata": {},
     "output_type": "execute_result"
    }
   ],
   "source": [
    "x"
   ]
  },
  {
   "cell_type": "code",
   "execution_count": null,
   "id": "40be3f72-26f5-4c6a-bb06-7ddd97ae53e2",
   "metadata": {},
   "outputs": [],
   "source": [
    "x,y,z=1,5,6"
   ]
  },
  {
   "cell_type": "code",
   "execution_count": 26,
   "id": "66456bd0-67bd-4a73-9403-0d2cc72ff21f",
   "metadata": {},
   "outputs": [
    {
     "data": {
      "text/plain": [
       "8"
      ]
     },
     "execution_count": 26,
     "metadata": {},
     "output_type": "execute_result"
    }
   ],
   "source": [
    "z"
   ]
  },
  {
   "cell_type": "code",
   "execution_count": 27,
   "id": "074c28a8-424a-4a05-861e-3175ed5cc5fc",
   "metadata": {},
   "outputs": [],
   "source": [
    "#and you can assign the same value to multiple variable in one line\n",
    "\n",
    "\n",
    "x=y=z=\"orange\"\n"
   ]
  },
  {
   "cell_type": "code",
   "execution_count": 28,
   "id": "69729801-e118-449e-a6e4-8dd1f9678432",
   "metadata": {},
   "outputs": [
    {
     "data": {
      "text/plain": [
       "'orange'"
      ]
     },
     "execution_count": 28,
     "metadata": {},
     "output_type": "execute_result"
    }
   ],
   "source": [
    "z"
   ]
  },
  {
   "cell_type": "markdown",
   "id": "6a5ad021-fbb9-4472-ba72-42616b3d2339",
   "metadata": {},
   "source": [
    "### DATA TYPES"
   ]
  },
  {
   "cell_type": "code",
   "execution_count": 1,
   "id": "49ea293b-5448-4718-b610-fce173c324c9",
   "metadata": {},
   "outputs": [
    {
     "name": "stdout",
     "output_type": "stream",
     "text": [
      "<class 'int'>\n"
     ]
    }
   ],
   "source": [
    "# data types\n",
    "# int\n",
    "x=5\n",
    "print( type (x))"
   ]
  },
  {
   "cell_type": "code",
   "execution_count": 7,
   "id": "96ca947e-4677-42f0-96a6-3bf5a2a40f48",
   "metadata": {},
   "outputs": [
    {
     "data": {
      "text/plain": [
       "float"
      ]
     },
     "execution_count": 7,
     "metadata": {},
     "output_type": "execute_result"
    }
   ],
   "source": [
    "# float number in data type\n",
    "y=5.2        ## float number is represeted by (.) \n",
    "type (y)"
   ]
  },
  {
   "cell_type": "code",
   "execution_count": 8,
   "id": "7cd18f4a-360d-4884-892d-dec94f6a801e",
   "metadata": {},
   "outputs": [
    {
     "data": {
      "text/plain": [
       "complex"
      ]
     },
     "execution_count": 8,
     "metadata": {},
     "output_type": "execute_result"
    }
   ],
   "source": [
    "# complex number in data type\n",
    "x = 1j         ## complex number is represented by \"j\"\n",
    "#print (type (x))\n",
    "type (x)"
   ]
  },
  {
   "cell_type": "code",
   "execution_count": 11,
   "id": "c7e7b864-0eb6-4fd3-9d41-979293208f4d",
   "metadata": {},
   "outputs": [
    {
     "data": {
      "text/plain": [
       "list"
      ]
     },
     "execution_count": 11,
     "metadata": {},
     "output_type": "execute_result"
    }
   ],
   "source": [
    "# sequence types\n",
    "## list\n",
    "x = [ \"apple\",\"banana\",\"cherry\"]  ## A list is  represented and close by  the \" [] \" (squere breket)\n",
    "type (x)"
   ]
  },
  {
   "cell_type": "code",
   "execution_count": 2,
   "id": "68277758-75d5-4333-8c65-a625efae4dc8",
   "metadata": {},
   "outputs": [
    {
     "data": {
      "text/plain": [
       "tuple"
      ]
     },
     "execution_count": 2,
     "metadata": {},
     "output_type": "execute_result"
    }
   ],
   "source": [
    "# tuple \n",
    "x = ( \" apple \",\"banana\",\"cherry\")  ## A tuple is represented and close by the \"()\"\n",
    "type (x)"
   ]
  },
  {
   "cell_type": "code",
   "execution_count": 6,
   "id": "7160b6cc-f367-4272-93fb-a9b1cfbf5b5b",
   "metadata": {},
   "outputs": [
    {
     "data": {
      "text/plain": [
       "range"
      ]
     },
     "execution_count": 6,
     "metadata": {},
     "output_type": "execute_result"
    }
   ],
   "source": [
    "# sequence types \n",
    "## range \n",
    "x = range (6) # range of the number ( 0-6 range) \n",
    "type (x)"
   ]
  },
  {
   "cell_type": "code",
   "execution_count": 10,
   "id": "c631af28-23a7-44f0-8652-9b3d4d3f93ad",
   "metadata": {},
   "outputs": [
    {
     "data": {
      "text/plain": [
       "dict"
      ]
     },
     "execution_count": 10,
     "metadata": {},
     "output_type": "execute_result"
    }
   ],
   "source": [
    "# mapping type\n",
    "# direction\n",
    "x = {\"name\":\"john\",\"age\":36}\n",
    "type (x)"
   ]
  },
  {
   "cell_type": "code",
   "execution_count": 11,
   "id": "2019836d-f424-45b5-9938-253dcfd3795a",
   "metadata": {},
   "outputs": [
    {
     "data": {
      "text/plain": [
       "set"
      ]
     },
     "execution_count": 11,
     "metadata": {},
     "output_type": "execute_result"
    }
   ],
   "source": [
    "#set \n",
    "x = {\"apple\", \"banana\",\"cherry\"} ## set is coolection of unique number \n",
    "type (x)"
   ]
  },
  {
   "cell_type": "code",
   "execution_count": 19,
   "id": "ee3c0be7-fe11-4ab1-a70e-b2234b4a424b",
   "metadata": {},
   "outputs": [
    {
     "data": {
      "text/plain": [
       "bool"
      ]
     },
     "execution_count": 19,
     "metadata": {},
     "output_type": "execute_result"
    }
   ],
   "source": [
    " # boolean type\n",
    "#bool\n",
    "x = True\n",
    "type (x)"
   ]
  },
  {
   "cell_type": "code",
   "execution_count": 14,
   "id": "178b3091-2dd5-4c6e-bd63-c65385719872",
   "metadata": {},
   "outputs": [
    {
     "data": {
      "text/plain": [
       "bytes"
      ]
     },
     "execution_count": 14,
     "metadata": {},
     "output_type": "execute_result"
    }
   ],
   "source": [
    "# bytes\n",
    "x= b\"Hello\"\n",
    "type (x)"
   ]
  },
  {
   "cell_type": "code",
   "execution_count": 20,
   "id": "7bc7c6a7-50bd-44d1-ba0e-558939d1ad70",
   "metadata": {},
   "outputs": [
    {
     "data": {
      "text/plain": [
       "bytearray"
      ]
     },
     "execution_count": 20,
     "metadata": {},
     "output_type": "execute_result"
    }
   ],
   "source": [
    "# bytearray\n",
    "x= bytearray (5)\n",
    "type (x)\n"
   ]
  },
  {
   "cell_type": "code",
   "execution_count": 22,
   "id": "49898870-0e84-442e-ba35-e5f3a8a5afab",
   "metadata": {},
   "outputs": [
    {
     "data": {
      "text/plain": [
       "memoryview"
      ]
     },
     "execution_count": 22,
     "metadata": {},
     "output_type": "execute_result"
    }
   ],
   "source": [
    "# memoryview\n",
    "x= memoryview(bytes (5))\n",
    "type(x)"
   ]
  },
  {
   "cell_type": "markdown",
   "id": "8a0f4ee7-fad2-446d-bb48-9372c94ab2f0",
   "metadata": {},
   "source": [
    "#### PYTHON CASTING"
   ]
  },
  {
   "cell_type": "code",
   "execution_count": null,
   "id": "7d9bcee9-5d31-4bfe-a48c-e97c183430e0",
   "metadata": {},
   "outputs": [],
   "source": []
  }
 ],
 "metadata": {
  "kernelspec": {
   "display_name": "Python 3 (ipykernel)",
   "language": "python",
   "name": "python3"
  },
  "language_info": {
   "codemirror_mode": {
    "name": "ipython",
    "version": 3
   },
   "file_extension": ".py",
   "mimetype": "text/x-python",
   "name": "python",
   "nbconvert_exporter": "python",
   "pygments_lexer": "ipython3",
   "version": "3.10.10"
  }
 },
 "nbformat": 4,
 "nbformat_minor": 5
}
