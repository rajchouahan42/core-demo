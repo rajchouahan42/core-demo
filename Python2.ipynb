{
 "cells": [
  {
   "cell_type": "markdown",
   "id": "54bfd966-ad09-4a43-87f4-a33914ffa229",
   "metadata": {},
   "source": [
    "### operator"
   ]
  },
  {
   "cell_type": "code",
   "execution_count": 3,
   "id": "1a82ab6f-9a58-4a9d-8cad-f2be4c3832d3",
   "metadata": {},
   "outputs": [
    {
     "name": "stdout",
     "output_type": "stream",
     "text": [
      "7\n"
     ]
    }
   ],
   "source": [
    "#floor divition\n",
    "a =23//3\n",
    "print (a)"
   ]
  },
  {
   "cell_type": "code",
   "execution_count": 6,
   "id": "1248e03e-6f1e-4a55-aee9-c840cee12a8e",
   "metadata": {},
   "outputs": [
    {
     "name": "stdout",
     "output_type": "stream",
     "text": [
      "1\n"
     ]
    }
   ],
   "source": [
    "# assignment\n",
    "a=5\n",
    "a//=3 # a=a//3\n",
    "print (a)"
   ]
  },
  {
   "cell_type": "code",
   "execution_count": null,
   "id": "5f709054-3354-4708-8a92-b6bcb1e8938e",
   "metadata": {},
   "outputs": [],
   "source": []
  },
  {
   "cell_type": "code",
   "execution_count": 7,
   "id": "c6978e8f-f9d3-40c0-83af-fa4b6420654f",
   "metadata": {},
   "outputs": [
    {
     "data": {
      "text/plain": [
       "7"
      ]
     },
     "execution_count": 7,
     "metadata": {},
     "output_type": "execute_result"
    }
   ],
   "source": [
    " a=1098345 \n",
    "\n",
    "a = str (a) # con\n",
    "len (a)\n",
    "\n"
   ]
  },
  {
   "cell_type": "code",
   "execution_count": 9,
   "id": "762a8ef8-262d-405b-bf45-3d1cbabb8423",
   "metadata": {},
   "outputs": [
    {
     "data": {
      "text/plain": [
       "0"
      ]
     },
     "execution_count": 9,
     "metadata": {},
     "output_type": "execute_result"
    }
   ],
   "source": [
    "b = int () \n",
    "b"
   ]
  },
  {
   "cell_type": "code",
   "execution_count": 10,
   "id": "e094c918-b9da-44bc-b423-d330253c53bd",
   "metadata": {},
   "outputs": [
    {
     "ename": "AttributeError",
     "evalue": "type object 'zip' has no attribute '_doc_'",
     "output_type": "error",
     "traceback": [
      "\u001b[1;31m---------------------------------------------------------------------------\u001b[0m",
      "\u001b[1;31mAttributeError\u001b[0m                            Traceback (most recent call last)",
      "Cell \u001b[1;32mIn[10], line 1\u001b[0m\n\u001b[1;32m----> 1\u001b[0m \u001b[38;5;28mprint\u001b[39m (\u001b[38;5;28;43mzip\u001b[39;49m\u001b[38;5;241;43m.\u001b[39;49m\u001b[43m_doc_\u001b[49m)\n",
      "\u001b[1;31mAttributeError\u001b[0m: type object 'zip' has no attribute '_doc_'"
     ]
    }
   ],
   "source": [
    "print (zip._doc_)"
   ]
  },
  {
   "cell_type": "code",
   "execution_count": 11,
   "id": "2d7752de-1a99-43a8-8d23-51c0a2bbbb19",
   "metadata": {},
   "outputs": [
    {
     "name": "stdout",
     "output_type": "stream",
     "text": [
      "zip(*iterables, strict=False) --> Yield tuples until an input is exhausted.\n",
      "\n",
      "   >>> list(zip('abcdefg', range(3), range(4)))\n",
      "   [('a', 0, 0), ('b', 1, 1), ('c', 2, 2)]\n",
      "\n",
      "The zip object yields n-length tuples, where n is the number of iterables\n",
      "passed as positional arguments to zip().  The i-th element in every tuple\n",
      "comes from the i-th iterable argument to zip().  This continues until the\n",
      "shortest argument is exhausted.\n",
      "\n",
      "If strict is true and one of the arguments is exhausted before the others,\n",
      "raise a ValueError.\n"
     ]
    }
   ],
   "source": [
    "print (zip.__doc__)"
   ]
  },
  {
   "cell_type": "code",
   "execution_count": null,
   "id": "e4a687a4-cf38-4b30-bd1e-b03ef2ded74a",
   "metadata": {},
   "outputs": [],
   "source": [
    "# 3. Relational Operator\n",
    "<, >, =< , >=, !=\n"
   ]
  },
  {
   "cell_type": "code",
   "execution_count": 12,
   "id": "11824eee-2c2e-49a0-9d75-34e32fd429ee",
   "metadata": {},
   "outputs": [
    {
     "data": {
      "text/plain": [
       "45"
      ]
     },
     "execution_count": 12,
     "metadata": {},
     "output_type": "execute_result"
    }
   ],
   "source": [
    "### 4. LOGICAL OPERATOR ---> and , or, not\n",
    "23 and 45\n"
   ]
  },
  {
   "cell_type": "code",
   "execution_count": 14,
   "id": "877eb03d-b085-4a02-bcf3-a54b5886d64c",
   "metadata": {},
   "outputs": [
    {
     "data": {
      "text/plain": [
       "True"
      ]
     },
     "execution_count": 14,
     "metadata": {},
     "output_type": "execute_result"
    }
   ],
   "source": [
    "a = 23 > 20 and 23 < 40\n",
    "a"
   ]
  },
  {
   "cell_type": "code",
   "execution_count": 16,
   "id": "aabdb23b-fec5-4a19-80ca-3e1553e6148a",
   "metadata": {},
   "outputs": [
    {
     "data": {
      "text/plain": [
       "True"
      ]
     },
     "execution_count": 16,
     "metadata": {},
     "output_type": "execute_result"
    }
   ],
   "source": [
    "a= 23 <20 or 23 <40\n",
    "a"
   ]
  },
  {
   "cell_type": "code",
   "execution_count": null,
   "id": "d9c2a9f8-7ca4-4753-a929-ba6619804d86",
   "metadata": {},
   "outputs": [],
   "source": []
  },
  {
   "cell_type": "code",
   "execution_count": null,
   "id": "a8d42a7f-5a9a-47d2-b8a0-f5b8e6c427ed",
   "metadata": {},
   "outputs": [],
   "source": [
    "\n",
    "b = 10\n",
    "a = 2<3 and 5"
   ]
  },
  {
   "cell_type": "code",
   "execution_count": null,
   "id": "f7efdf33-7852-40e3-9f1c-407b34a678ff",
   "metadata": {},
   "outputs": [],
   "source": [
    "#.6 identity operator"
   ]
  },
  {
   "cell_type": "code",
   "execution_count": null,
   "id": "2ceb3ecc-c15e-4202-a2ec-0684abb237da",
   "metadata": {},
   "outputs": [],
   "source": [
    "#MEMBERSHIP OPERATOR ---> in ,not in\n",
    "a "
   ]
  },
  {
   "cell_type": "code",
   "execution_count": 17,
   "id": "60445158-7be3-41b5-929b-766ccd77b310",
   "metadata": {},
   "outputs": [],
   "source": [
    "# escape sequence character\n",
    "#\n",
    "# "
   ]
  },
  {
   "cell_type": "code",
   "execution_count": 18,
   "id": "e14e05b5-fc56-4032-91f7-b45205f21c34",
   "metadata": {},
   "outputs": [
    {
     "data": {
      "text/plain": [
       "' This is test \\r'"
      ]
     },
     "execution_count": 18,
     "metadata": {},
     "output_type": "execute_result"
    }
   ],
   "source": [
    "a = ' This is test \\r'\n",
    "a"
   ]
  },
  {
   "cell_type": "code",
   "execution_count": 20,
   "id": "b89726f3-60a1-4d27-9ba9-f95ab714e06c",
   "metadata": {},
   "outputs": [
    {
     "name": "stdout",
     "output_type": "stream",
     "text": [
      " rams is test \n"
     ]
    }
   ],
   "source": [
    "a = ' This is test \\r ram'\n",
    "print (a)"
   ]
  },
  {
   "cell_type": "code",
   "execution_count": 21,
   "id": "16a659f1-a311-4024-8a98-d84281e9645c",
   "metadata": {},
   "outputs": [],
   "source": [
    " ### LOOP\n",
    "# for , while\n"
   ]
  },
  {
   "cell_type": "code",
   "execution_count": 24,
   "id": "4ba0ea3f-226b-48b7-9ea3-f9715ef7f326",
   "metadata": {},
   "outputs": [
    {
     "name": "stdout",
     "output_type": "stream",
     "text": [
      "i\n",
      "n\n",
      "d\n",
      "i\n",
      "a\n",
      " \n",
      "i\n",
      "s\n",
      " \n",
      "g\n",
      "o\n",
      "o\n",
      "d\n",
      " \n",
      "c\n",
      "o\n",
      "u\n",
      "n\n",
      "t\n",
      "r\n",
      "y\n"
     ]
    }
   ],
   "source": [
    "### for it for iteration of sequence data or collection data (both some )\n",
    "l1 = 'india is good country'\n",
    "for i in l1 :\n",
    "    print ( i)\n",
    "\n",
    "    "
   ]
  },
  {
   "cell_type": "code",
   "execution_count": null,
   "id": "587b8002-0c25-4937-8e72-4b6881f0a5c3",
   "metadata": {},
   "outputs": [],
   "source": [
    "l1 = [ ' hariom','sidharth','ravina','dilip',' raja ']\n"
   ]
  },
  {
   "cell_type": "code",
   "execution_count": 25,
   "id": "f5e4d381-297b-4ddd-9619-18ecc8ecd033",
   "metadata": {},
   "outputs": [
    {
     "data": {
      "text/plain": [
       "True"
      ]
     },
     "execution_count": 25,
     "metadata": {},
     "output_type": "execute_result"
    }
   ],
   "source": [
    "a = ' Dilip'\n",
    "'i'in a"
   ]
  },
  {
   "cell_type": "code",
   "execution_count": 26,
   "id": "6c63c169-0658-4f89-901c-e40e5a03bddc",
   "metadata": {},
   "outputs": [
    {
     "name": "stdout",
     "output_type": "stream",
     "text": [
      "<class 'str'>\n",
      "<class 'str'>\n",
      "<class 'str'>\n",
      "<class 'str'>\n",
      "<class 'str'>\n",
      "<class 'str'>\n",
      "<class 'str'>\n",
      "<class 'str'>\n",
      "<class 'str'>\n",
      "<class 'str'>\n",
      "<class 'str'>\n",
      "<class 'str'>\n",
      "<class 'str'>\n",
      "<class 'str'>\n",
      "<class 'str'>\n",
      "<class 'str'>\n",
      "<class 'str'>\n",
      "<class 'str'>\n",
      "<class 'str'>\n",
      "<class 'str'>\n",
      "<class 'str'>\n"
     ]
    }
   ],
   "source": [
    "for i in l1 :\n",
    "    print (type (i))"
   ]
  },
  {
   "cell_type": "code",
   "execution_count": 35,
   "id": "7f5c146f-f346-44ea-bc2a-9ce0669079b3",
   "metadata": {},
   "outputs": [
    {
     "name": "stdout",
     "output_type": "stream",
     "text": [
      "mohan\n",
      "karan\n",
      "sarang\n"
     ]
    }
   ],
   "source": [
    "name = [ 'priya', 'khushi','pinki','mohan','karan','sarang']\n",
    "for i in name :\n",
    "    if 'i' in i :\n",
    "        continue\n",
    "    print (i)"
   ]
  },
  {
   "cell_type": "code",
   "execution_count": null,
   "id": "fcf834c9-fe33-4430-a5fd-73bde4443a8a",
   "metadata": {},
   "outputs": [],
   "source": [
    " a = 1\n",
    "while n<11:\n",
    "    if n==7:\n",
    "        break\n",
    "        print(a)\n",
    "        n+=1"
   ]
  },
  {
   "cell_type": "code",
   "execution_count": 4,
   "id": "94052754-12bc-4d88-af24-e987372e116f",
   "metadata": {},
   "outputs": [
    {
     "ename": "SyntaxError",
     "evalue": "unterminated string literal (detected at line 5) (589285483.py, line 5)",
     "output_type": "error",
     "traceback": [
      "\u001b[1;36m  Cell \u001b[1;32mIn[4], line 5\u001b[1;36m\u001b[0m\n\u001b[1;33m    print (\"good monring')\u001b[0m\n\u001b[1;37m           ^\u001b[0m\n\u001b[1;31mSyntaxError\u001b[0m\u001b[1;31m:\u001b[0m unterminated string literal (detected at line 5)\n"
     ]
    }
   ],
   "source": [
    "if time > 12:\n",
    "    print ('good afternoon')\n",
    "else:\n",
    "    time <12:\n",
    "    print (\"good monring')"
   ]
  },
  {
   "cell_type": "code",
   "execution_count": 5,
   "id": "811399e5-3c73-417f-8435-6d3baef40678",
   "metadata": {},
   "outputs": [
    {
     "name": "stdout",
     "output_type": "stream",
     "text": [
      "Good morning\n"
     ]
    }
   ],
   "source": [
    "time = 9\n",
    "if time  >12:\n",
    "    print (\"good morning\")\n",
    "else:\n",
    "    print ('Good morning')\n"
   ]
  },
  {
   "cell_type": "code",
   "execution_count": 8,
   "id": "007068c8-3639-4411-b4f6-f5888d5b484a",
   "metadata": {},
   "outputs": [
    {
     "ename": "SyntaxError",
     "evalue": "unterminated string literal (detected at line 10) (3074014100.py, line 10)",
     "output_type": "error",
     "traceback": [
      "\u001b[1;36m  Cell \u001b[1;32mIn[8], line 10\u001b[1;36m\u001b[0m\n\u001b[1;33m    print(Normal Temp')\u001b[0m\n\u001b[1;37m                     ^\u001b[0m\n\u001b[1;31mSyntaxError\u001b[0m\u001b[1;31m:\u001b[0m unterminated string literal (detected at line 10)\n"
     ]
    }
   ],
   "source": [
    "body_temp  float (input ('enter body temp in fe'))\n",
    "if body_temp == 98:\n",
    "    print ('malaria not found')\n",
    "    pt_count = float ( input ('Enter platelet cout in decimal'))\n",
    "    if pt_count < 1.8:\n",
    "        print ('Dengue')\n",
    "    else:\n",
    "        print ('you are lucky you fit')\n",
    "    elif body_temp > 98.7 and body_temp <=99:\n",
    "    print(Normal Temp')\n",
    "\n",
    "\n",
    "          \n",
    "         \n",
    "          \n",
    "          \n",
    "elif body_temp > 99:\n",
    "\n",
    "      print ('M  be maraira')\n",
    "\n",
    "\n",
    "             \n"
   ]
  },
  {
   "cell_type": "code",
   "execution_count": null,
   "id": "941565a3-510c-4b65-8cba-0e9b4f08c964",
   "metadata": {},
   "outputs": [],
   "source": [
    "season = input ('Enter Season') \n",
    "game "
   ]
  },
  {
   "cell_type": "code",
   "execution_count": 9,
   "id": "5ac11992-7c94-4236-a4ff-e8781aae13be",
   "metadata": {},
   "outputs": [
    {
     "name": "stdout",
     "output_type": "stream",
     "text": [
      "False\n"
     ]
    }
   ],
   "source": [
    "print(bool())"
   ]
  },
  {
   "cell_type": "code",
   "execution_count": null,
   "id": "12222286-dc89-4533-a378-45ceec6dbd68",
   "metadata": {},
   "outputs": [],
   "source": []
  }
 ],
 "metadata": {
  "kernelspec": {
   "display_name": "Python 3 (ipykernel)",
   "language": "python",
   "name": "python3"
  },
  "language_info": {
   "codemirror_mode": {
    "name": "ipython",
    "version": 3
   },
   "file_extension": ".py",
   "mimetype": "text/x-python",
   "name": "python",
   "nbconvert_exporter": "python",
   "pygments_lexer": "ipython3",
   "version": "3.10.10"
  }
 },
 "nbformat": 4,
 "nbformat_minor": 5
}
